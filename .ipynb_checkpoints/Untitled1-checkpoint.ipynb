{
 "cells": [
  {
   "cell_type": "code",
   "execution_count": 37,
   "id": "6633d6f0",
   "metadata": {},
   "outputs": [
    {
     "name": "stdout",
     "output_type": "stream",
     "text": [
      " Python Programming, Jane Doe, 320, true\n"
     ]
    }
   ],
   "source": [
    "class Book:\n",
    "    def __init__(self, title, author, pages, read=False):\n",
    "        self.title = title\n",
    "        self.author = author\n",
    "        self.pages = pages\n",
    "        self.read = read\n",
    "\n",
    "    def read_book(self):\n",
    "        if not self.read:\n",
    "            self.read = True\n",
    "    def display_details(self):\n",
    "        read_status = \"true\" if self.read else \"false\"\n",
    "        print(f\" {self.title}, {self.author}, {self.pages}, {read_status}\")\n",
    "\n",
    "my_favorite_book = Book(title=\"Python Programming\", author=\"Jane Doe\", pages=320)\n",
    "\n",
    "my_favorite_book.read_book()\n",
    "my_favorite_book.display_details()\n",
    "            "
   ]
  },
  {
   "cell_type": "code",
   "execution_count": 25,
   "id": "d6815099",
   "metadata": {},
   "outputs": [
    {
     "name": "stdout",
     "output_type": "stream",
     "text": [
      " Python Programming, Jane Doe, 320, true\n"
     ]
    }
   ],
   "source": [
    "class Book:\n",
    "    def __init__(self, title, author, pages, read=False):\n",
    "        self.title = title\n",
    "        self.author = author\n",
    "        self.pages = pages\n",
    "        self.read = read\n",
    "\n",
    "    def read_book(self):\n",
    "        if not self.read:\n",
    "            self.read = True\n",
    "  \n",
    "\n",
    "    def display_details(self):\n",
    "        read_status = \"true\" if self.read else \"false\"\n",
    "        print(f\" {self.title}, {self.author}, {self.pages}, {read_status}\")\n",
    "\n",
    "my_favorite_book = Book(title=\"Python Programming\", author=\"Jane Doe\", pages=320)\n",
    "\n",
    "my_favorite_book.read_book()\n",
    "my_favorite_book.display_details()\n",
    "     \n"
   ]
  },
  {
   "cell_type": "code",
   "execution_count": 29,
   "id": "e0fd2ba5",
   "metadata": {},
   "outputs": [
    {
     "name": "stdout",
     "output_type": "stream",
     "text": [
      "[1, 2, 3]\n"
     ]
    }
   ],
   "source": [
    "#Data Type Conversion\n",
    "#Given a list of strings number_strings which contains numbers in string format, write a code snippet to convert them to a list of integers. For instance, [\"1\", \"2\", \"3\"] should become [1, 2, 3].\n",
    "#(20 Points)\n",
    "number_strings = [\"1\", \"2\", \"3\"]\n",
    "number_integers = [int(num_str) for num_str in number_strings]\n",
    "print(number_integers)    \n",
    " "
   ]
  },
  {
   "cell_type": "code",
   "execution_count": 30,
   "id": "663337da",
   "metadata": {},
   "outputs": [
    {
     "name": "stdout",
     "output_type": "stream",
     "text": [
      "The apple is red.\n",
      "The blueberry is blue.\n",
      "Blueberry is my favorite!\n",
      "The cherry is red.\n",
      "The orange is orange.\n"
     ]
    }
   ],
   "source": [
    "#Control Flow – Iteration and Conditionals:\n",
    "#-Write a loop that iterates over the fruits list and prints each fruit's name and color in the format \"The [fruit] is [color].\"\n",
    "#-In the same loop, if the fruit is \"blueberry\", print \"Blueberry is my favorite!\"\n",
    "#fruits = [\"apple\", \"blueberry\", \"cherry\", \"orange\"]\n",
    "\n",
    "fruit_colors = {\n",
    "    \"apple\": \"red\",\n",
    "    \"blueberry\": \"blue\",\n",
    "    \"cherry\": \"red\",\n",
    "    \"orange\": \"orange\"\n",
    "}\n",
    "\n",
    "for fruit in fruits:\n",
    "    fruit_color = fruit_colors.get(fruit, \"unknown color\")  \n",
    "    print(f\"The {fruit} is {fruit_color}.\")\n",
    "\n",
    "    if fruit == \"blueberry\":\n",
    "        print(\"Blueberry is my favorite!\")\n"
   ]
  },
  {
   "cell_type": "code",
   "execution_count": 31,
   "id": "2188982d",
   "metadata": {},
   "outputs": [
    {
     "name": "stdout",
     "output_type": "stream",
     "text": [
      "h*ll* w*rld\n"
     ]
    }
   ],
   "source": [
    "#String Manipulation\n",
    "#Write a function replace_vowels that takes a string and replaces all vowels in the string with an asterisk '*'. For example, replace_vowels(\"hello world\") should return \"h*ll* w*rld\".\n",
    "def replace_vowels(input_string):\n",
    "    vowels = \"aeiouAEIOU\"\n",
    "    result = \"\"\n",
    "\n",
    "    for char in input_string:\n",
    "        if char in vowels:\n",
    "            result += \"*\"\n",
    "        else:\n",
    "            result += char\n",
    "\n",
    "    return result\n",
    "\n",
    "original_string = \"hello world\"\n",
    "modified_string = replace_vowels(original_string)\n",
    "print(modified_string)\n"
   ]
  },
  {
   "cell_type": "code",
   "execution_count": 34,
   "id": "6b78ae40",
   "metadata": {},
   "outputs": [
    {
     "name": "stdout",
     "output_type": "stream",
     "text": [
      "Fruit Colors Dictionary: {'apple': 'red', 'banana': 'yellow', 'orange': 'orange', 'blueberry': 'blue'}\n"
     ]
    }
   ],
   "source": [
    "#Dictionary Operations:\n",
    "#Create a dictionary called fruit_colors where the keys are the fruit names from the fruits list and the values are the colors of the fruits (you can make these up).\n",
    "fruits = [\"apple\", \"banana\", \"orange\", \"blueberry\"]\n",
    "\n",
    "fruit_colors = {\n",
    "    \"apple\": \"red\",\n",
    "    \"banana\": \"yellow\",\n",
    "    \"orange\": \"orange\",\n",
    "    \"blueberry\": \"blue\"\n",
    "}\n",
    "\n",
    "print(\"Fruit Colors Dictionary:\", fruit_colors)\n",
    "\n",
    "    \n"
   ]
  },
  {
   "cell_type": "code",
   "execution_count": 36,
   "id": "0d2a362f",
   "metadata": {},
   "outputs": [
    {
     "name": "stdout",
     "output_type": "stream",
     "text": [
      "Modified Fruits List: ['apple', 'blueberry', 'cherry', 'orange']\n"
     ]
    }
   ],
   "source": [
    "#List Creation and Manipulation:\n",
    "#-Create a list called fruits that contains the strings \"apple\", \"banana\", and \"cherry\".\n",
    "#-Add \"orange\" to the end of the list.\n",
    "#-Replace \"banana\" with \"blueberry\".\n",
    "#-Sort the list in alphabetical order.\n",
    "fruits = [\"apple\", \"banana\", \"cherry\"]\n",
    "\n",
    "fruits.append(\"orange\")\n",
    "\n",
    "if \"banana\" in fruits:\n",
    "    index_banana = fruits.index(\"banana\")\n",
    "    fruits[index_banana] = \"blueberry\"\n",
    "\n",
    "fruits.sort()\n",
    "\n",
    "print(\"Modified Fruits List:\", fruits)\n",
    "\n"
   ]
  },
  {
   "cell_type": "code",
   "execution_count": 6,
   "id": "03e248c2",
   "metadata": {},
   "outputs": [
    {
     "name": "stdout",
     "output_type": "stream",
     "text": [
      "2022 Tesla Model 3 with 60kWh battery\n"
     ]
    }
   ],
   "source": [
    "#Base Class Creation:\n",
    "#Define a class named Vehicle with attributes:\n",
    "#make (a string)\n",
    "#model (a string)\n",
    "#year (an integer)\n",
    "#Include a method called description that returns a string formatted as \"[year] [make] [model]\".\n",
    "\n",
    "class Vehicle:\n",
    "    def __init__(self, make, model, year):\n",
    "        self.make = make\n",
    "        self.model = model\n",
    "        self.year = year\n",
    "\n",
    "    def description(self):\n",
    "        return f\"{self.year} {self.make} {self.model}\"\n",
    "#Derived Class with Inheritance:\n",
    "#Define a derived class named ElectricVehicle that inherits from Vehicle.\n",
    "#Add an attribute called battery_size (in kWh, an integer).\n",
    "#Override the description method to include the battery size in the format: \"[year] [make] \n",
    "#[model] with [battery_size]kWh battery\".\n",
    "\n",
    "class ElectricVehicle(Vehicle):\n",
    "    def __init__(self, make, model, year, battery_size):\n",
    "        super().__init__(make, model, year)\n",
    "        self.battery_size = self.validate_battery_size(battery_size)\n",
    "\n",
    "    def validate_battery_size(self, battery_size):\n",
    "        try:\n",
    "            # Attempt to convert battery_size to an integer\n",
    "            battery_size = int(battery_size)\n",
    "            if battery_size <= 0:\n",
    "                raise BatterySizeError(\"Battery size must be a positive integer.\")\n",
    "            return battery_size\n",
    "        except ValueError:\n",
    "            # If conversion fails, raise BatterySizeError\n",
    "            raise BatterySizeError(\"Invalid battery size. Please provide an integer.\")\n",
    "\n",
    "    def description(self):\n",
    "        # Override the description method to include battery size for ElectricVehicle\n",
    "        base_description = super().description()\n",
    "        return f\"{base_description} with {self.battery_size}kWh battery\"\n",
    "\n",
    "try:\n",
    "    electric_car = ElectricVehicle(make=\"Tesla\", model=\"Model 3\", year=2022, battery_size=\"60\")\n",
    "    print(electric_car.description())\n",
    "except BatterySizeError as e:\n",
    "    # Handle the custom exception for invalid battery size\n",
    "    print(f\"Error: {e}\")\n",
    "except AttributeError as e:\n",
    "    # Handle the exception if an invalid attribute is accessed\n",
    "    print(f\"Error: {e}\")\n",
    "\n",
    "    "
   ]
  },
  {
   "cell_type": "code",
   "execution_count": 10,
   "id": "88fb82a4",
   "metadata": {},
   "outputs": [
    {
     "name": "stdout",
     "output_type": "stream",
     "text": [
      "2022 Tesla Model 3 with 60kWh battery\n"
     ]
    }
   ],
   "source": [
    "class Vehicle:\n",
    "    def __init__(self, make, model, year):\n",
    "        self.make = make\n",
    "        self.model = model\n",
    "        self.year = year\n",
    "\n",
    "    def description(self):\n",
    "        return f\"{self.year} {self.make} {self.model}\"\n",
    "\n",
    "class ElectricVehicle(Vehicle):\n",
    "    def __init__(self, make, model, year, battery_size):\n",
    "        super().__init__(make, model, year)\n",
    "        self.battery_size = self.validate_battery_size(battery_size)\n",
    "\n",
    "    def validate_battery_size(self, battery_size):\n",
    "        try:\n",
    "          \n",
    "            battery_size = int(battery_size)\n",
    "            if battery_size <= 0:\n",
    "                raise BatterySizeError(\"Battery size must be a positive integer.\")\n",
    "            return battery_size\n",
    "        except ValueError:\n",
    "         \n",
    "            raise BatterySizeError(\"Invalid battery size. Please provide an integer.\")\n",
    "\n",
    "    def description(self):\n",
    "       \n",
    "        base_description = super().description()\n",
    "        return f\"{base_description} with {self.battery_size}kWh battery\"\n",
    "\n",
    "try:\n",
    "    electric_car = ElectricVehicle(make=\"Tesla\", model=\"Model 3\", year=2022, battery_size=\"60\")\n",
    "    print(electric_car.description())\n",
    "except BatterySizeError as e:\n",
    "    \n",
    "    print(f\"Error: {e}\")\n",
    "except AttributeError as e:\n",
    "    \n",
    "    print(f\"Error: {e}\")\n"
   ]
  },
  {
   "cell_type": "code",
   "execution_count": 11,
   "id": "72fef656",
   "metadata": {},
   "outputs": [
    {
     "name": "stdout",
     "output_type": "stream",
     "text": [
      "2022 Tesla Model 3 with 60kWh battery\n"
     ]
    }
   ],
   "source": [
    "class Vehicle:\n",
    "    def __init__(self, make, model, year):\n",
    "        self.make = make\n",
    "        self.model = model\n",
    "        self.year = year\n",
    "\n",
    "    def description(self):\n",
    "        return f\"{self.year} {self.make} {self.model}\"  \n",
    "                \n",
    "class ElectricVehicle(Vehicle):\n",
    "    def __init__(self, make, model, year, battery_size):\n",
    "        super().__init__(make, model, year)\n",
    "        self.battery_size = battery_size\n",
    "\n",
    "    def description(self):\n",
    "        return f\"{super().description()} with {self.battery_size} kWh battery\"\n",
    "    electric_car = ElectricVehicle(make=\"Tesla\", model=\"Model 3\", year=2022, battery_size=60)\n",
    "print(electric_car.description())"
   ]
  },
  {
   "cell_type": "code",
   "execution_count": 18,
   "id": "636f5d68",
   "metadata": {},
   "outputs": [
    {
     "name": "stdout",
     "output_type": "stream",
     "text": [
      "2022 Toyota Camry\n"
     ]
    }
   ],
   "source": [
    "class Vehicle:\n",
    "    def __init__(self, make, model, year):\n",
    "        self.make = make\n",
    "        self.model = model\n",
    "        self.year = year\n",
    "\n",
    "    def description(self):\n",
    "        return f\"{self.year} {self.make} {self.model}\" \n",
    "car = Vehicle(make=\"Toyota\", model=\"Camry\", year=2022)\n",
    "print(car.description())"
   ]
  },
  {
   "cell_type": "code",
   "execution_count": null,
   "id": "6bcc3c2f",
   "metadata": {},
   "outputs": [],
   "source": []
  }
 ],
 "metadata": {
  "kernelspec": {
   "display_name": "Python 3 (ipykernel)",
   "language": "python",
   "name": "python3"
  },
  "language_info": {
   "codemirror_mode": {
    "name": "ipython",
    "version": 3
   },
   "file_extension": ".py",
   "mimetype": "text/x-python",
   "name": "python",
   "nbconvert_exporter": "python",
   "pygments_lexer": "ipython3",
   "version": "3.11.5"
  }
 },
 "nbformat": 4,
 "nbformat_minor": 5
}
